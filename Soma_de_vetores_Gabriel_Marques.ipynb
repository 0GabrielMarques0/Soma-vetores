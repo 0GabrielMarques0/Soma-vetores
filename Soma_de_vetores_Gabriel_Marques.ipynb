{
  "nbformat": 4,
  "nbformat_minor": 0,
  "metadata": {
    "colab": {
      "provenance": [],
      "authorship_tag": "ABX9TyOLJkLT1NYrsdhtltPXt8WU",
      "include_colab_link": true
    },
    "kernelspec": {
      "name": "python3",
      "display_name": "Python 3"
    },
    "language_info": {
      "name": "python"
    }
  },
  "cells": [
    {
      "cell_type": "markdown",
      "metadata": {
        "id": "view-in-github",
        "colab_type": "text"
      },
      "source": [
        "<a href=\"https://colab.research.google.com/github/0GabrielMarques0/Soma-vetores/blob/main/Soma_de_vetores_Gabriel_Marques.ipynb\" target=\"_parent\"><img src=\"https://colab.research.google.com/assets/colab-badge.svg\" alt=\"Open In Colab\"/></a>"
      ]
    },
    {
      "cell_type": "markdown",
      "source": [
        "Crie dois vetores/semestres com 4 notas cada; \n",
        "Imprima a média final do estudante."
      ],
      "metadata": {
        "id": "FNLCVoPEzNki"
      }
    },
    {
      "cell_type": "code",
      "execution_count": 6,
      "metadata": {
        "colab": {
          "base_uri": "https://localhost:8080/"
        },
        "id": "lA3iiyvUx0JE",
        "outputId": "3225ba7c-8c2e-4355-d862-92dc2da69623"
      },
      "outputs": [
        {
          "output_type": "stream",
          "name": "stdout",
          "text": [
            "A média final desse aluno no ano é de: 8.31\n"
          ]
        }
      ],
      "source": [
        "semestre1 = [8,9,7,6];\n",
        "semestre2 = [10,9,8.5,9];\n",
        "mediaSem1 = sum(semestre1)/len(semestre1);\n",
        "mediaSem2 = sum(semestre2)/len(semestre2);\n",
        "mediaGeral = (mediaSem1+mediaSem2)/2;\n",
        "print(f'A média final desse aluno no ano é de: {round(mediaGeral,2)}');"
      ]
    }
  ]
}